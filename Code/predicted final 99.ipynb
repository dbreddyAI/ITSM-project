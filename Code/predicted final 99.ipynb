{
  "nbformat": 4,
  "nbformat_minor": 0,
  "metadata": {
    "kernelspec": {
      "display_name": "Python 3",
      "language": "python",
      "name": "python3"
    },
    "language_info": {
      "codemirror_mode": {
        "name": "ipython",
        "version": 3
      },
      "file_extension": ".py",
      "mimetype": "text/x-python",
      "name": "python",
      "nbconvert_exporter": "python",
      "pygments_lexer": "ipython3",
      "version": "3.7.3"
    },
    "colab": {
      "name": "Copy of Project-ITSM-Priority.ipynb",
      "version": "0.3.2",
      "provenance": []
    }
  },
  "cells": [
    {
      "cell_type": "markdown",
      "metadata": {
        "id": "6R0xMDjMRILp",
        "colab_type": "text"
      },
      "source": [
        "# Project-ITSM-Priority "
      ]
    },
    {
      "cell_type": "code",
      "metadata": {
        "id": "yXac0P5xRILt",
        "colab_type": "code",
        "colab": {}
      },
      "source": [
        "import pandas as pd\n",
        "import numpy as np\n",
        "from sklearn.model_selection import train_test_split\n",
        "from sklearn.ensemble import RandomForestClassifier\n",
        "from sklearn.preprocessing import LabelEncoder\n",
        "from sklearn.preprocessing import scale\n",
        "from sklearn.tree import DecisionTreeClassifier\n",
        "from sklearn.externals.six import StringIO  \n",
        "from IPython.display import Image  \n",
        "from sklearn.tree import export_graphviz\n",
        "import pydotplus"
      ],
      "execution_count": 0,
      "outputs": []
    },
    {
      "cell_type": "code",
      "metadata": {
        "id": "rge81YEqRIL0",
        "colab_type": "code",
        "colab": {}
      },
      "source": [
        "data = pd.read_excel(\"/content/train_priority(onlny proirty data).xlsx\")"
      ],
      "execution_count": 0,
      "outputs": []
    },
    {
      "cell_type": "code",
      "metadata": {
        "id": "EynfAQIzRIL9",
        "colab_type": "code",
        "outputId": "215f6689-f6d4-4e96-8cd2-2b3ba9b91166",
        "colab": {
          "base_uri": "https://localhost:8080/",
          "height": 497
        }
      },
      "source": [
        "data.head(15)"
      ],
      "execution_count": 87,
      "outputs": [
        {
          "output_type": "execute_result",
          "data": {
            "text/html": [
              "<div>\n",
              "<style scoped>\n",
              "    .dataframe tbody tr th:only-of-type {\n",
              "        vertical-align: middle;\n",
              "    }\n",
              "\n",
              "    .dataframe tbody tr th {\n",
              "        vertical-align: top;\n",
              "    }\n",
              "\n",
              "    .dataframe thead th {\n",
              "        text-align: right;\n",
              "    }\n",
              "</style>\n",
              "<table border=\"1\" class=\"dataframe\">\n",
              "  <thead>\n",
              "    <tr style=\"text-align: right;\">\n",
              "      <th></th>\n",
              "      <th>CI_Name</th>\n",
              "      <th>CI_Cat</th>\n",
              "      <th>CI_Subcat</th>\n",
              "      <th>Incident_ID</th>\n",
              "      <th>Status</th>\n",
              "      <th>Impact</th>\n",
              "      <th>Urgency</th>\n",
              "      <th>Priority</th>\n",
              "      <th>number_cnt</th>\n",
              "      <th>Category</th>\n",
              "      <th>KB_number</th>\n",
              "      <th>No_of_Reassignments</th>\n",
              "    </tr>\n",
              "  </thead>\n",
              "  <tbody>\n",
              "    <tr>\n",
              "      <th>0</th>\n",
              "      <td>WBA000082</td>\n",
              "      <td>application</td>\n",
              "      <td>Web Based Application</td>\n",
              "      <td>IM0000034</td>\n",
              "      <td>Closed</td>\n",
              "      <td>5</td>\n",
              "      <td>5</td>\n",
              "      <td>5</td>\n",
              "      <td>0.663615</td>\n",
              "      <td>incident</td>\n",
              "      <td>KM0000401</td>\n",
              "      <td>5</td>\n",
              "    </tr>\n",
              "    <tr>\n",
              "      <th>1</th>\n",
              "      <td>SBA000662</td>\n",
              "      <td>application</td>\n",
              "      <td>Server Based Application</td>\n",
              "      <td>IM0000048</td>\n",
              "      <td>Closed</td>\n",
              "      <td>5</td>\n",
              "      <td>5</td>\n",
              "      <td>5</td>\n",
              "      <td>0.748361</td>\n",
              "      <td>request for information</td>\n",
              "      <td>KM0000524</td>\n",
              "      <td>0</td>\n",
              "    </tr>\n",
              "    <tr>\n",
              "      <th>2</th>\n",
              "      <td>SBA000607</td>\n",
              "      <td>application</td>\n",
              "      <td>Server Based Application</td>\n",
              "      <td>IM0000049</td>\n",
              "      <td>Closed</td>\n",
              "      <td>5</td>\n",
              "      <td>5</td>\n",
              "      <td>5</td>\n",
              "      <td>0.246183</td>\n",
              "      <td>request for information</td>\n",
              "      <td>KM0000592</td>\n",
              "      <td>11</td>\n",
              "    </tr>\n",
              "    <tr>\n",
              "      <th>3</th>\n",
              "      <td>SBA000263</td>\n",
              "      <td>application</td>\n",
              "      <td>Server Based Application</td>\n",
              "      <td>IM0000053</td>\n",
              "      <td>Closed</td>\n",
              "      <td>5</td>\n",
              "      <td>5</td>\n",
              "      <td>5</td>\n",
              "      <td>0.853722</td>\n",
              "      <td>request for information</td>\n",
              "      <td>KM0001104</td>\n",
              "      <td>2</td>\n",
              "    </tr>\n",
              "    <tr>\n",
              "      <th>4</th>\n",
              "      <td>SUB000431</td>\n",
              "      <td>subapplication</td>\n",
              "      <td>Web Based Application</td>\n",
              "      <td>IM0000061</td>\n",
              "      <td>Closed</td>\n",
              "      <td>5</td>\n",
              "      <td>5</td>\n",
              "      <td>5</td>\n",
              "      <td>0.433426</td>\n",
              "      <td>request for information</td>\n",
              "      <td>KM0000603</td>\n",
              "      <td>3</td>\n",
              "    </tr>\n",
              "    <tr>\n",
              "      <th>5</th>\n",
              "      <td>SBA000314</td>\n",
              "      <td>application</td>\n",
              "      <td>Server Based Application</td>\n",
              "      <td>IM0000067</td>\n",
              "      <td>Closed</td>\n",
              "      <td>5</td>\n",
              "      <td>5</td>\n",
              "      <td>5</td>\n",
              "      <td>0.719923</td>\n",
              "      <td>incident</td>\n",
              "      <td>KM0000650</td>\n",
              "      <td>25</td>\n",
              "    </tr>\n",
              "    <tr>\n",
              "      <th>6</th>\n",
              "      <td>SAP000005</td>\n",
              "      <td>application</td>\n",
              "      <td>SAP</td>\n",
              "      <td>IM0000073</td>\n",
              "      <td>Closed</td>\n",
              "      <td>5</td>\n",
              "      <td>5</td>\n",
              "      <td>5</td>\n",
              "      <td>0.683291</td>\n",
              "      <td>request for information</td>\n",
              "      <td>KM0001124</td>\n",
              "      <td>30</td>\n",
              "    </tr>\n",
              "    <tr>\n",
              "      <th>7</th>\n",
              "      <td>SAP000004</td>\n",
              "      <td>application</td>\n",
              "      <td>SAP</td>\n",
              "      <td>IM0000078</td>\n",
              "      <td>Closed</td>\n",
              "      <td>5</td>\n",
              "      <td>5</td>\n",
              "      <td>5</td>\n",
              "      <td>0.775692</td>\n",
              "      <td>request for information</td>\n",
              "      <td>KM0001572</td>\n",
              "      <td>37</td>\n",
              "    </tr>\n",
              "    <tr>\n",
              "      <th>8</th>\n",
              "      <td>SAP000004</td>\n",
              "      <td>application</td>\n",
              "      <td>SAP</td>\n",
              "      <td>IM0000088</td>\n",
              "      <td>Closed</td>\n",
              "      <td>5</td>\n",
              "      <td>5</td>\n",
              "      <td>5</td>\n",
              "      <td>0.773605</td>\n",
              "      <td>request for information</td>\n",
              "      <td>KM0001264</td>\n",
              "      <td>32</td>\n",
              "    </tr>\n",
              "    <tr>\n",
              "      <th>9</th>\n",
              "      <td>SBA000045</td>\n",
              "      <td>application</td>\n",
              "      <td>Server Based Application</td>\n",
              "      <td>IM0000090</td>\n",
              "      <td>Closed</td>\n",
              "      <td>5</td>\n",
              "      <td>5</td>\n",
              "      <td>5</td>\n",
              "      <td>0.283635</td>\n",
              "      <td>incident</td>\n",
              "      <td>KM0000565</td>\n",
              "      <td>1</td>\n",
              "    </tr>\n",
              "    <tr>\n",
              "      <th>10</th>\n",
              "      <td>SBA000607</td>\n",
              "      <td>application</td>\n",
              "      <td>Server Based Application</td>\n",
              "      <td>IM0000092</td>\n",
              "      <td>Closed</td>\n",
              "      <td>5</td>\n",
              "      <td>5</td>\n",
              "      <td>5</td>\n",
              "      <td>0.603933</td>\n",
              "      <td>request for information</td>\n",
              "      <td>KM0000592</td>\n",
              "      <td>12</td>\n",
              "    </tr>\n",
              "    <tr>\n",
              "      <th>11</th>\n",
              "      <td>WBA000124</td>\n",
              "      <td>application</td>\n",
              "      <td>Web Based Application</td>\n",
              "      <td>IM0000105</td>\n",
              "      <td>Closed</td>\n",
              "      <td>5</td>\n",
              "      <td>5</td>\n",
              "      <td>5</td>\n",
              "      <td>0.109543</td>\n",
              "      <td>incident</td>\n",
              "      <td>KM0000611</td>\n",
              "      <td>9</td>\n",
              "    </tr>\n",
              "    <tr>\n",
              "      <th>12</th>\n",
              "      <td>CBA000014</td>\n",
              "      <td>application</td>\n",
              "      <td>Client Based Application</td>\n",
              "      <td>IM0000112</td>\n",
              "      <td>Closed</td>\n",
              "      <td>5</td>\n",
              "      <td>5</td>\n",
              "      <td>5</td>\n",
              "      <td>0.965152</td>\n",
              "      <td>incident</td>\n",
              "      <td>KM0001723</td>\n",
              "      <td>15</td>\n",
              "    </tr>\n",
              "    <tr>\n",
              "      <th>13</th>\n",
              "      <td>SBA000263</td>\n",
              "      <td>application</td>\n",
              "      <td>Server Based Application</td>\n",
              "      <td>IM0000114</td>\n",
              "      <td>Closed</td>\n",
              "      <td>5</td>\n",
              "      <td>5</td>\n",
              "      <td>5</td>\n",
              "      <td>0.063647</td>\n",
              "      <td>request for information</td>\n",
              "      <td>KM0001116</td>\n",
              "      <td>8</td>\n",
              "    </tr>\n",
              "    <tr>\n",
              "      <th>14</th>\n",
              "      <td>WBA000124</td>\n",
              "      <td>application</td>\n",
              "      <td>Web Based Application</td>\n",
              "      <td>IM0000123</td>\n",
              "      <td>Closed</td>\n",
              "      <td>5</td>\n",
              "      <td>5</td>\n",
              "      <td>5</td>\n",
              "      <td>0.344262</td>\n",
              "      <td>incident</td>\n",
              "      <td>KM0000611</td>\n",
              "      <td>10</td>\n",
              "    </tr>\n",
              "  </tbody>\n",
              "</table>\n",
              "</div>"
            ],
            "text/plain": [
              "      CI_Name          CI_Cat  ...  KB_number No_of_Reassignments\n",
              "0   WBA000082     application  ...  KM0000401                   5\n",
              "1   SBA000662     application  ...  KM0000524                   0\n",
              "2   SBA000607     application  ...  KM0000592                  11\n",
              "3   SBA000263     application  ...  KM0001104                   2\n",
              "4   SUB000431  subapplication  ...  KM0000603                   3\n",
              "5   SBA000314     application  ...  KM0000650                  25\n",
              "6   SAP000005     application  ...  KM0001124                  30\n",
              "7   SAP000004     application  ...  KM0001572                  37\n",
              "8   SAP000004     application  ...  KM0001264                  32\n",
              "9   SBA000045     application  ...  KM0000565                   1\n",
              "10  SBA000607     application  ...  KM0000592                  12\n",
              "11  WBA000124     application  ...  KM0000611                   9\n",
              "12  CBA000014     application  ...  KM0001723                  15\n",
              "13  SBA000263     application  ...  KM0001116                   8\n",
              "14  WBA000124     application  ...  KM0000611                  10\n",
              "\n",
              "[15 rows x 12 columns]"
            ]
          },
          "metadata": {
            "tags": []
          },
          "execution_count": 87
        }
      ]
    },
    {
      "cell_type": "code",
      "metadata": {
        "id": "mWIN0fvUl-8J",
        "colab_type": "code",
        "colab": {
          "base_uri": "https://localhost:8080/",
          "height": 318
        },
        "outputId": "55fd889a-4c20-4fb5-f1d7-b8053169611f"
      },
      "source": [
        "data.info()"
      ],
      "execution_count": 88,
      "outputs": [
        {
          "output_type": "stream",
          "text": [
            "<class 'pandas.core.frame.DataFrame'>\n",
            "RangeIndex: 45117 entries, 0 to 45116\n",
            "Data columns (total 12 columns):\n",
            "CI_Name                45117 non-null object\n",
            "CI_Cat                 45117 non-null object\n",
            "CI_Subcat              45117 non-null object\n",
            "Incident_ID            45117 non-null object\n",
            "Status                 45117 non-null object\n",
            "Impact                 45117 non-null int64\n",
            "Urgency                45117 non-null int64\n",
            "Priority               45117 non-null int64\n",
            "number_cnt             45117 non-null float64\n",
            "Category               45117 non-null object\n",
            "KB_number              45117 non-null object\n",
            "No_of_Reassignments    45117 non-null int64\n",
            "dtypes: float64(1), int64(4), object(7)\n",
            "memory usage: 4.1+ MB\n"
          ],
          "name": "stdout"
        }
      ]
    },
    {
      "cell_type": "code",
      "metadata": {
        "id": "H9Kkyx2PRIMB",
        "colab_type": "code",
        "colab": {}
      },
      "source": [
        "data =  data.iloc[:,1:]"
      ],
      "execution_count": 0,
      "outputs": []
    },
    {
      "cell_type": "code",
      "metadata": {
        "id": "0VgjXz6oRIMG",
        "colab_type": "code",
        "outputId": "b10ee391-74f1-4c9b-ad9b-ad53738fe882",
        "colab": {
          "base_uri": "https://localhost:8080/",
          "height": 197
        }
      },
      "source": [
        "data.head()"
      ],
      "execution_count": 90,
      "outputs": [
        {
          "output_type": "execute_result",
          "data": {
            "text/html": [
              "<div>\n",
              "<style scoped>\n",
              "    .dataframe tbody tr th:only-of-type {\n",
              "        vertical-align: middle;\n",
              "    }\n",
              "\n",
              "    .dataframe tbody tr th {\n",
              "        vertical-align: top;\n",
              "    }\n",
              "\n",
              "    .dataframe thead th {\n",
              "        text-align: right;\n",
              "    }\n",
              "</style>\n",
              "<table border=\"1\" class=\"dataframe\">\n",
              "  <thead>\n",
              "    <tr style=\"text-align: right;\">\n",
              "      <th></th>\n",
              "      <th>CI_Cat</th>\n",
              "      <th>CI_Subcat</th>\n",
              "      <th>Incident_ID</th>\n",
              "      <th>Status</th>\n",
              "      <th>Impact</th>\n",
              "      <th>Urgency</th>\n",
              "      <th>Priority</th>\n",
              "      <th>number_cnt</th>\n",
              "      <th>Category</th>\n",
              "      <th>KB_number</th>\n",
              "      <th>No_of_Reassignments</th>\n",
              "    </tr>\n",
              "  </thead>\n",
              "  <tbody>\n",
              "    <tr>\n",
              "      <th>0</th>\n",
              "      <td>application</td>\n",
              "      <td>Web Based Application</td>\n",
              "      <td>IM0000034</td>\n",
              "      <td>Closed</td>\n",
              "      <td>5</td>\n",
              "      <td>5</td>\n",
              "      <td>5</td>\n",
              "      <td>0.663615</td>\n",
              "      <td>incident</td>\n",
              "      <td>KM0000401</td>\n",
              "      <td>5</td>\n",
              "    </tr>\n",
              "    <tr>\n",
              "      <th>1</th>\n",
              "      <td>application</td>\n",
              "      <td>Server Based Application</td>\n",
              "      <td>IM0000048</td>\n",
              "      <td>Closed</td>\n",
              "      <td>5</td>\n",
              "      <td>5</td>\n",
              "      <td>5</td>\n",
              "      <td>0.748361</td>\n",
              "      <td>request for information</td>\n",
              "      <td>KM0000524</td>\n",
              "      <td>0</td>\n",
              "    </tr>\n",
              "    <tr>\n",
              "      <th>2</th>\n",
              "      <td>application</td>\n",
              "      <td>Server Based Application</td>\n",
              "      <td>IM0000049</td>\n",
              "      <td>Closed</td>\n",
              "      <td>5</td>\n",
              "      <td>5</td>\n",
              "      <td>5</td>\n",
              "      <td>0.246183</td>\n",
              "      <td>request for information</td>\n",
              "      <td>KM0000592</td>\n",
              "      <td>11</td>\n",
              "    </tr>\n",
              "    <tr>\n",
              "      <th>3</th>\n",
              "      <td>application</td>\n",
              "      <td>Server Based Application</td>\n",
              "      <td>IM0000053</td>\n",
              "      <td>Closed</td>\n",
              "      <td>5</td>\n",
              "      <td>5</td>\n",
              "      <td>5</td>\n",
              "      <td>0.853722</td>\n",
              "      <td>request for information</td>\n",
              "      <td>KM0001104</td>\n",
              "      <td>2</td>\n",
              "    </tr>\n",
              "    <tr>\n",
              "      <th>4</th>\n",
              "      <td>subapplication</td>\n",
              "      <td>Web Based Application</td>\n",
              "      <td>IM0000061</td>\n",
              "      <td>Closed</td>\n",
              "      <td>5</td>\n",
              "      <td>5</td>\n",
              "      <td>5</td>\n",
              "      <td>0.433426</td>\n",
              "      <td>request for information</td>\n",
              "      <td>KM0000603</td>\n",
              "      <td>3</td>\n",
              "    </tr>\n",
              "  </tbody>\n",
              "</table>\n",
              "</div>"
            ],
            "text/plain": [
              "           CI_Cat                 CI_Subcat  ...  KB_number No_of_Reassignments\n",
              "0     application     Web Based Application  ...  KM0000401                   5\n",
              "1     application  Server Based Application  ...  KM0000524                   0\n",
              "2     application  Server Based Application  ...  KM0000592                  11\n",
              "3     application  Server Based Application  ...  KM0001104                   2\n",
              "4  subapplication     Web Based Application  ...  KM0000603                   3\n",
              "\n",
              "[5 rows x 11 columns]"
            ]
          },
          "metadata": {
            "tags": []
          },
          "execution_count": 90
        }
      ]
    },
    {
      "cell_type": "code",
      "metadata": {
        "id": "x9ErRQIORIMK",
        "colab_type": "code",
        "outputId": "0d7bbfd4-1902-4fa1-ee4d-45457b0f32a0",
        "colab": {
          "base_uri": "https://localhost:8080/",
          "height": 230
        }
      },
      "source": [
        "data.isnull().sum()"
      ],
      "execution_count": 91,
      "outputs": [
        {
          "output_type": "execute_result",
          "data": {
            "text/plain": [
              "CI_Cat                 0\n",
              "CI_Subcat              0\n",
              "Incident_ID            0\n",
              "Status                 0\n",
              "Impact                 0\n",
              "Urgency                0\n",
              "Priority               0\n",
              "number_cnt             0\n",
              "Category               0\n",
              "KB_number              0\n",
              "No_of_Reassignments    0\n",
              "dtype: int64"
            ]
          },
          "metadata": {
            "tags": []
          },
          "execution_count": 91
        }
      ]
    },
    {
      "cell_type": "code",
      "metadata": {
        "id": "tWS2kEC3RIMO",
        "colab_type": "code",
        "outputId": "59e9f2a7-ad7e-4a69-a95d-791b451b569f",
        "colab": {
          "base_uri": "https://localhost:8080/",
          "height": 123
        }
      },
      "source": [
        "data.Category.head(5)"
      ],
      "execution_count": 92,
      "outputs": [
        {
          "output_type": "execute_result",
          "data": {
            "text/plain": [
              "0                   incident\n",
              "1    request for information\n",
              "2    request for information\n",
              "3    request for information\n",
              "4    request for information\n",
              "Name: Category, dtype: object"
            ]
          },
          "metadata": {
            "tags": []
          },
          "execution_count": 92
        }
      ]
    },
    {
      "cell_type": "code",
      "metadata": {
        "id": "Pj_gO13qRIMS",
        "colab_type": "code",
        "outputId": "ad4e4a10-7b68-4aa2-a927-9b5e9a9cac72",
        "colab": {
          "base_uri": "https://localhost:8080/",
          "height": 123
        }
      },
      "source": [
        "enc = LabelEncoder() # Convert category to numbers using label encoder\n",
        "data.Category =  enc.fit_transform(data.Category)\n",
        "data.Category.head(5)"
      ],
      "execution_count": 93,
      "outputs": [
        {
          "output_type": "execute_result",
          "data": {
            "text/plain": [
              "0    1\n",
              "1    2\n",
              "2    2\n",
              "3    2\n",
              "4    2\n",
              "Name: Category, dtype: int64"
            ]
          },
          "metadata": {
            "tags": []
          },
          "execution_count": 93
        }
      ]
    },
    {
      "cell_type": "code",
      "metadata": {
        "id": "R4nwTkytooHo",
        "colab_type": "code",
        "colab": {}
      },
      "source": [
        "# enc = LabelEncoder() # Convert category to numbers using label encoder\n",
        "# data.CI_Subcat =  enc.fit_transform(data.CI_Subcat)\n",
        "# data.CI_Subcat.head(5)"
      ],
      "execution_count": 0,
      "outputs": []
    },
    {
      "cell_type": "code",
      "metadata": {
        "id": "3YuusGENpLRL",
        "colab_type": "code",
        "colab": {}
      },
      "source": [
        "# pd.DataFrame(data.groupby(['CI_Subcat']).mean())"
      ],
      "execution_count": 0,
      "outputs": []
    },
    {
      "cell_type": "code",
      "metadata": {
        "scrolled": true,
        "id": "Ox__lmi1RIMX",
        "colab_type": "code",
        "outputId": "5b7ee3c3-2312-4092-c523-9af921ac19b2",
        "colab": {
          "base_uri": "https://localhost:8080/",
          "height": 197
        }
      },
      "source": [
        "X = data.loc[:,['Impact','Urgency','Category']]\n",
        "X.head()"
      ],
      "execution_count": 97,
      "outputs": [
        {
          "output_type": "execute_result",
          "data": {
            "text/html": [
              "<div>\n",
              "<style scoped>\n",
              "    .dataframe tbody tr th:only-of-type {\n",
              "        vertical-align: middle;\n",
              "    }\n",
              "\n",
              "    .dataframe tbody tr th {\n",
              "        vertical-align: top;\n",
              "    }\n",
              "\n",
              "    .dataframe thead th {\n",
              "        text-align: right;\n",
              "    }\n",
              "</style>\n",
              "<table border=\"1\" class=\"dataframe\">\n",
              "  <thead>\n",
              "    <tr style=\"text-align: right;\">\n",
              "      <th></th>\n",
              "      <th>Impact</th>\n",
              "      <th>Urgency</th>\n",
              "      <th>Category</th>\n",
              "    </tr>\n",
              "  </thead>\n",
              "  <tbody>\n",
              "    <tr>\n",
              "      <th>0</th>\n",
              "      <td>5</td>\n",
              "      <td>5</td>\n",
              "      <td>1</td>\n",
              "    </tr>\n",
              "    <tr>\n",
              "      <th>1</th>\n",
              "      <td>5</td>\n",
              "      <td>5</td>\n",
              "      <td>2</td>\n",
              "    </tr>\n",
              "    <tr>\n",
              "      <th>2</th>\n",
              "      <td>5</td>\n",
              "      <td>5</td>\n",
              "      <td>2</td>\n",
              "    </tr>\n",
              "    <tr>\n",
              "      <th>3</th>\n",
              "      <td>5</td>\n",
              "      <td>5</td>\n",
              "      <td>2</td>\n",
              "    </tr>\n",
              "    <tr>\n",
              "      <th>4</th>\n",
              "      <td>5</td>\n",
              "      <td>5</td>\n",
              "      <td>2</td>\n",
              "    </tr>\n",
              "  </tbody>\n",
              "</table>\n",
              "</div>"
            ],
            "text/plain": [
              "   Impact  Urgency  Category\n",
              "0       5        5         1\n",
              "1       5        5         2\n",
              "2       5        5         2\n",
              "3       5        5         2\n",
              "4       5        5         2"
            ]
          },
          "metadata": {
            "tags": []
          },
          "execution_count": 97
        }
      ]
    },
    {
      "cell_type": "code",
      "metadata": {
        "scrolled": false,
        "id": "K8XmsXViRIMb",
        "colab_type": "code",
        "outputId": "6cbf2630-ea83-4129-8f5c-972261a5d772",
        "colab": {
          "base_uri": "https://localhost:8080/",
          "height": 123
        }
      },
      "source": [
        "y = data.Priority\n",
        "y.tail()"
      ],
      "execution_count": 98,
      "outputs": [
        {
          "output_type": "execute_result",
          "data": {
            "text/plain": [
              "45112    2\n",
              "45113    2\n",
              "45114    1\n",
              "45115    1\n",
              "45116    1\n",
              "Name: Priority, dtype: int64"
            ]
          },
          "metadata": {
            "tags": []
          },
          "execution_count": 98
        }
      ]
    },
    {
      "cell_type": "code",
      "metadata": {
        "id": "E0it5aClRIMf",
        "colab_type": "code",
        "outputId": "92917333-f896-4a10-a141-5ee6437ee020",
        "colab": {
          "base_uri": "https://localhost:8080/",
          "height": 286
        }
      },
      "source": [
        "# X.Impact.loc[X.Impact=='NS'] = data.Urgency # assign the value of urgency to impact column if the impact column = NS\n",
        "# X.head()"
      ],
      "execution_count": 12,
      "outputs": [
        {
          "output_type": "stream",
          "text": [
            "/usr/local/lib/python3.6/dist-packages/pandas/core/indexing.py:190: SettingWithCopyWarning: \n",
            "A value is trying to be set on a copy of a slice from a DataFrame\n",
            "\n",
            "See the caveats in the documentation: http://pandas.pydata.org/pandas-docs/stable/indexing.html#indexing-view-versus-copy\n",
            "  self._setitem_with_indexer(indexer, value)\n"
          ],
          "name": "stderr"
        },
        {
          "output_type": "execute_result",
          "data": {
            "text/html": [
              "<div>\n",
              "<style scoped>\n",
              "    .dataframe tbody tr th:only-of-type {\n",
              "        vertical-align: middle;\n",
              "    }\n",
              "\n",
              "    .dataframe tbody tr th {\n",
              "        vertical-align: top;\n",
              "    }\n",
              "\n",
              "    .dataframe thead th {\n",
              "        text-align: right;\n",
              "    }\n",
              "</style>\n",
              "<table border=\"1\" class=\"dataframe\">\n",
              "  <thead>\n",
              "    <tr style=\"text-align: right;\">\n",
              "      <th></th>\n",
              "      <th>Impact</th>\n",
              "      <th>Urgency</th>\n",
              "      <th>Category</th>\n",
              "    </tr>\n",
              "  </thead>\n",
              "  <tbody>\n",
              "    <tr>\n",
              "      <th>0</th>\n",
              "      <td>4</td>\n",
              "      <td>4</td>\n",
              "      <td>1</td>\n",
              "    </tr>\n",
              "    <tr>\n",
              "      <th>1</th>\n",
              "      <td>3</td>\n",
              "      <td>3</td>\n",
              "      <td>1</td>\n",
              "    </tr>\n",
              "    <tr>\n",
              "      <th>2</th>\n",
              "      <td>3</td>\n",
              "      <td>3</td>\n",
              "      <td>3</td>\n",
              "    </tr>\n",
              "    <tr>\n",
              "      <th>3</th>\n",
              "      <td>4</td>\n",
              "      <td>4</td>\n",
              "      <td>1</td>\n",
              "    </tr>\n",
              "    <tr>\n",
              "      <th>4</th>\n",
              "      <td>4</td>\n",
              "      <td>4</td>\n",
              "      <td>1</td>\n",
              "    </tr>\n",
              "  </tbody>\n",
              "</table>\n",
              "</div>"
            ],
            "text/plain": [
              "  Impact Urgency  Category\n",
              "0      4       4         1\n",
              "1      3       3         1\n",
              "2      3       3         3\n",
              "3      4       4         1\n",
              "4      4       4         1"
            ]
          },
          "metadata": {
            "tags": []
          },
          "execution_count": 12
        }
      ]
    },
    {
      "cell_type": "code",
      "metadata": {
        "id": "0fwm5e1MRIMk",
        "colab_type": "code",
        "outputId": "4e731993-3adf-40c6-b405-bac235ab72e3",
        "colab": {
          "base_uri": "https://localhost:8080/",
          "height": 90
        }
      },
      "source": [
        "X.Urgency.loc[X.Urgency=='5 - Very Low']"
      ],
      "execution_count": 99,
      "outputs": [
        {
          "output_type": "stream",
          "text": [
            "/usr/local/lib/python3.6/dist-packages/pandas/core/ops.py:1649: FutureWarning: elementwise comparison failed; returning scalar instead, but in the future will perform elementwise comparison\n",
            "  result = method(y)\n"
          ],
          "name": "stderr"
        },
        {
          "output_type": "execute_result",
          "data": {
            "text/plain": [
              "Series([], Name: Urgency, dtype: int64)"
            ]
          },
          "metadata": {
            "tags": []
          },
          "execution_count": 99
        }
      ]
    },
    {
      "cell_type": "code",
      "metadata": {
        "scrolled": false,
        "id": "ERg3ciHDRIMq",
        "colab_type": "code",
        "colab": {
          "base_uri": "https://localhost:8080/",
          "height": 105
        },
        "outputId": "1a50045c-5233-4b81-83b3-b8f392e7f4b1"
      },
      "source": [
        "X.Urgency.loc[X.Urgency=='5 - Very Low'] = '5' ## assign value 5 to the records which has 5-Very Low as Urgency value"
      ],
      "execution_count": 14,
      "outputs": [
        {
          "output_type": "stream",
          "text": [
            "/usr/local/lib/python3.6/dist-packages/pandas/core/indexing.py:190: SettingWithCopyWarning: \n",
            "A value is trying to be set on a copy of a slice from a DataFrame\n",
            "\n",
            "See the caveats in the documentation: http://pandas.pydata.org/pandas-docs/stable/indexing.html#indexing-view-versus-copy\n",
            "  self._setitem_with_indexer(indexer, value)\n"
          ],
          "name": "stderr"
        }
      ]
    },
    {
      "cell_type": "code",
      "metadata": {
        "id": "kg9ta-NhRIMu",
        "colab_type": "code",
        "colab": {}
      },
      "source": [
        "X_train,X_test,y_train,y_test = train_test_split(X,y,test_size=0.3)"
      ],
      "execution_count": 0,
      "outputs": []
    },
    {
      "cell_type": "code",
      "metadata": {
        "id": "vJJj9rfBRIMy",
        "colab_type": "code",
        "outputId": "778cd14c-75f3-44f4-9972-cbb61a66dd5d",
        "colab": {
          "base_uri": "https://localhost:8080/",
          "height": 87
        }
      },
      "source": [
        "print(\"X_train : \",X_train.shape)\n",
        "print(\"X_test : \",X_test.shape)\n",
        "print(\"y_train : \",y_train.shape)\n",
        "print(\"y_test : \",y_test.shape)"
      ],
      "execution_count": 101,
      "outputs": [
        {
          "output_type": "stream",
          "text": [
            "X_train :  (31581, 3)\n",
            "X_test :  (13536, 3)\n",
            "y_train :  (31581,)\n",
            "y_test :  (13536,)\n"
          ],
          "name": "stdout"
        }
      ]
    },
    {
      "cell_type": "code",
      "metadata": {
        "id": "8x2v717mRIM7",
        "colab_type": "code",
        "outputId": "147dece9-5df8-4bfb-f049-07e763f31b0b",
        "colab": {
          "base_uri": "https://localhost:8080/",
          "height": 230
        }
      },
      "source": [
        "data.isnull().sum()"
      ],
      "execution_count": 102,
      "outputs": [
        {
          "output_type": "execute_result",
          "data": {
            "text/plain": [
              "CI_Cat                 0\n",
              "CI_Subcat              0\n",
              "Incident_ID            0\n",
              "Status                 0\n",
              "Impact                 0\n",
              "Urgency                0\n",
              "Priority               0\n",
              "number_cnt             0\n",
              "Category               0\n",
              "KB_number              0\n",
              "No_of_Reassignments    0\n",
              "dtype: int64"
            ]
          },
          "metadata": {
            "tags": []
          },
          "execution_count": 102
        }
      ]
    },
    {
      "cell_type": "code",
      "metadata": {
        "id": "CcXGeKLvW4Ph",
        "colab_type": "code",
        "colab": {
          "base_uri": "https://localhost:8080/",
          "height": 197
        },
        "outputId": "5ebddd60-ebed-4e56-d701-ec4c2c144e0b"
      },
      "source": [
        "data.sort_values(by=['Impact'],axis=0, ascending=False, inplace=False, kind='quicksort', na_position='last').head(5)"
      ],
      "execution_count": 103,
      "outputs": [
        {
          "output_type": "execute_result",
          "data": {
            "text/html": [
              "<div>\n",
              "<style scoped>\n",
              "    .dataframe tbody tr th:only-of-type {\n",
              "        vertical-align: middle;\n",
              "    }\n",
              "\n",
              "    .dataframe tbody tr th {\n",
              "        vertical-align: top;\n",
              "    }\n",
              "\n",
              "    .dataframe thead th {\n",
              "        text-align: right;\n",
              "    }\n",
              "</style>\n",
              "<table border=\"1\" class=\"dataframe\">\n",
              "  <thead>\n",
              "    <tr style=\"text-align: right;\">\n",
              "      <th></th>\n",
              "      <th>CI_Cat</th>\n",
              "      <th>CI_Subcat</th>\n",
              "      <th>Incident_ID</th>\n",
              "      <th>Status</th>\n",
              "      <th>Impact</th>\n",
              "      <th>Urgency</th>\n",
              "      <th>Priority</th>\n",
              "      <th>number_cnt</th>\n",
              "      <th>Category</th>\n",
              "      <th>KB_number</th>\n",
              "      <th>No_of_Reassignments</th>\n",
              "    </tr>\n",
              "  </thead>\n",
              "  <tbody>\n",
              "    <tr>\n",
              "      <th>0</th>\n",
              "      <td>application</td>\n",
              "      <td>Web Based Application</td>\n",
              "      <td>IM0000034</td>\n",
              "      <td>Closed</td>\n",
              "      <td>5</td>\n",
              "      <td>5</td>\n",
              "      <td>5</td>\n",
              "      <td>0.663615</td>\n",
              "      <td>1</td>\n",
              "      <td>KM0000401</td>\n",
              "      <td>5</td>\n",
              "    </tr>\n",
              "    <tr>\n",
              "      <th>11110</th>\n",
              "      <td>application</td>\n",
              "      <td>Server Based Application</td>\n",
              "      <td>IM0029842</td>\n",
              "      <td>Closed</td>\n",
              "      <td>5</td>\n",
              "      <td>5</td>\n",
              "      <td>5</td>\n",
              "      <td>0.975460</td>\n",
              "      <td>1</td>\n",
              "      <td>KM0000304</td>\n",
              "      <td>0</td>\n",
              "    </tr>\n",
              "    <tr>\n",
              "      <th>11112</th>\n",
              "      <td>computer</td>\n",
              "      <td>Laptop</td>\n",
              "      <td>IM0029849</td>\n",
              "      <td>Closed</td>\n",
              "      <td>5</td>\n",
              "      <td>5</td>\n",
              "      <td>5</td>\n",
              "      <td>0.193419</td>\n",
              "      <td>1</td>\n",
              "      <td>KM0001447</td>\n",
              "      <td>0</td>\n",
              "    </tr>\n",
              "    <tr>\n",
              "      <th>11113</th>\n",
              "      <td>computer</td>\n",
              "      <td>Laptop</td>\n",
              "      <td>IM0029850</td>\n",
              "      <td>Closed</td>\n",
              "      <td>5</td>\n",
              "      <td>5</td>\n",
              "      <td>5</td>\n",
              "      <td>0.264624</td>\n",
              "      <td>1</td>\n",
              "      <td>KM0001447</td>\n",
              "      <td>0</td>\n",
              "    </tr>\n",
              "    <tr>\n",
              "      <th>11114</th>\n",
              "      <td>computer</td>\n",
              "      <td>Laptop</td>\n",
              "      <td>IM0029851</td>\n",
              "      <td>Closed</td>\n",
              "      <td>5</td>\n",
              "      <td>5</td>\n",
              "      <td>5</td>\n",
              "      <td>0.817169</td>\n",
              "      <td>1</td>\n",
              "      <td>KM0001447</td>\n",
              "      <td>0</td>\n",
              "    </tr>\n",
              "  </tbody>\n",
              "</table>\n",
              "</div>"
            ],
            "text/plain": [
              "            CI_Cat                 CI_Subcat  ...  KB_number No_of_Reassignments\n",
              "0      application     Web Based Application  ...  KM0000401                   5\n",
              "11110  application  Server Based Application  ...  KM0000304                   0\n",
              "11112     computer                    Laptop  ...  KM0001447                   0\n",
              "11113     computer                    Laptop  ...  KM0001447                   0\n",
              "11114     computer                    Laptop  ...  KM0001447                   0\n",
              "\n",
              "[5 rows x 11 columns]"
            ]
          },
          "metadata": {
            "tags": []
          },
          "execution_count": 103
        }
      ]
    },
    {
      "cell_type": "code",
      "metadata": {
        "id": "7bnABT-mV4WN",
        "colab_type": "code",
        "colab": {}
      },
      "source": [
        "# model = DecisionTreeClassifier(max_depth=3,random_state=15)\n",
        "# model.fit(X_train,y_train)"
      ],
      "execution_count": 0,
      "outputs": []
    },
    {
      "cell_type": "code",
      "metadata": {
        "id": "XertI9UIrdKT",
        "colab_type": "code",
        "colab": {}
      },
      "source": [
        "# #Visualizing\n",
        "# dot_data = StringIO()\n",
        "# export_graphviz(model, out_file=dot_data,  \n",
        "#                 filled=True, \n",
        "#                 feature_names = X.Priority,\n",
        "# #                 class_names=['setosa','versi color','virginca'],\n",
        "#                 rounded=True,\n",
        "#                 special_characters=True)\n",
        "# graph = pydotplus.graph_from_dot_data(dot_data.getvalue())  \n",
        "# Image(graph.create_png())"
      ],
      "execution_count": 0,
      "outputs": []
    },
    {
      "cell_type": "code",
      "metadata": {
        "scrolled": true,
        "id": "ADCQKV2DRIM_",
        "colab_type": "code",
        "outputId": "6b2c095a-90d6-446f-894b-937fcf0e0b57",
        "colab": {
          "base_uri": "https://localhost:8080/",
          "height": 176
        }
      },
      "source": [
        "from sklearn.metrics import accuracy_score\n",
        "model = RandomForestClassifier()\n",
        "model.fit(X_train,y_train)"
      ],
      "execution_count": 113,
      "outputs": [
        {
          "output_type": "stream",
          "text": [
            "/usr/local/lib/python3.6/dist-packages/sklearn/ensemble/forest.py:245: FutureWarning: The default value of n_estimators will change from 10 in version 0.20 to 100 in 0.22.\n",
            "  \"10 in version 0.20 to 100 in 0.22.\", FutureWarning)\n"
          ],
          "name": "stderr"
        },
        {
          "output_type": "execute_result",
          "data": {
            "text/plain": [
              "RandomForestClassifier(bootstrap=True, class_weight=None, criterion='gini',\n",
              "                       max_depth=None, max_features='auto', max_leaf_nodes=None,\n",
              "                       min_impurity_decrease=0.0, min_impurity_split=None,\n",
              "                       min_samples_leaf=1, min_samples_split=2,\n",
              "                       min_weight_fraction_leaf=0.0, n_estimators=10,\n",
              "                       n_jobs=None, oob_score=False, random_state=None,\n",
              "                       verbose=0, warm_start=False)"
            ]
          },
          "metadata": {
            "tags": []
          },
          "execution_count": 113
        }
      ]
    },
    {
      "cell_type": "code",
      "metadata": {
        "id": "EI99ucy5RIND",
        "colab_type": "code",
        "colab": {}
      },
      "source": [
        "y_pred=model.predict(X_test)"
      ],
      "execution_count": 0,
      "outputs": []
    },
    {
      "cell_type": "code",
      "metadata": {
        "id": "c7L15I18sD0u",
        "colab_type": "code",
        "colab": {
          "base_uri": "https://localhost:8080/",
          "height": 34
        },
        "outputId": "4195dda8-bb64-44da-bbb9-c0d65a0b6141"
      },
      "source": [
        "accuracy_score(y_pred,y_test)"
      ],
      "execution_count": 115,
      "outputs": [
        {
          "output_type": "execute_result",
          "data": {
            "text/plain": [
              "0.9999261229314421"
            ]
          },
          "metadata": {
            "tags": []
          },
          "execution_count": 115
        }
      ]
    },
    {
      "cell_type": "code",
      "metadata": {
        "id": "uQQyx6QFs32g",
        "colab_type": "code",
        "colab": {}
      },
      "source": [
        ""
      ],
      "execution_count": 0,
      "outputs": []
    }
  ]
}