{
 "cells": [
  {
   "cell_type": "code",
   "execution_count": 9,
   "metadata": {},
   "outputs": [],
   "source": [
    "import pandas as pd"
   ]
  },
  {
   "cell_type": "code",
   "execution_count": 10,
   "metadata": {},
   "outputs": [],
   "source": [
    "data=pd.read_csv('data/project_itsm_dataset_list.csv')"
   ]
  },
  {
   "cell_type": "code",
   "execution_count": 11,
   "metadata": {},
   "outputs": [
    {
     "data": {
      "text/html": [
       "<div>\n",
       "<style scoped>\n",
       "    .dataframe tbody tr th:only-of-type {\n",
       "        vertical-align: middle;\n",
       "    }\n",
       "\n",
       "    .dataframe tbody tr th {\n",
       "        vertical-align: top;\n",
       "    }\n",
       "\n",
       "    .dataframe thead th {\n",
       "        text-align: right;\n",
       "    }\n",
       "</style>\n",
       "<table border=\"1\" class=\"dataframe\">\n",
       "  <thead>\n",
       "    <tr style=\"text-align: right;\">\n",
       "      <th></th>\n",
       "      <th>CI_Name</th>\n",
       "      <th>CI_Cat</th>\n",
       "      <th>CI_Subcat</th>\n",
       "      <th>WBS</th>\n",
       "      <th>Incident_ID</th>\n",
       "      <th>Status</th>\n",
       "      <th>Impact</th>\n",
       "      <th>Urgency</th>\n",
       "      <th>Priority</th>\n",
       "      <th>number_cnt</th>\n",
       "      <th>...</th>\n",
       "      <th>Reopen_Time</th>\n",
       "      <th>Resolved_Time</th>\n",
       "      <th>Close_Time</th>\n",
       "      <th>Handle_Time_hrs</th>\n",
       "      <th>Closure_Code</th>\n",
       "      <th>No_of_Related_Interactions</th>\n",
       "      <th>Related_Interaction</th>\n",
       "      <th>No_of_Related_Incidents</th>\n",
       "      <th>No_of_Related_Changes</th>\n",
       "      <th>Related_Change</th>\n",
       "    </tr>\n",
       "  </thead>\n",
       "  <tbody>\n",
       "    <tr>\n",
       "      <th>46601</th>\n",
       "      <td>SBA000464</td>\n",
       "      <td>application</td>\n",
       "      <td>Server Based Application</td>\n",
       "      <td>WBS000073</td>\n",
       "      <td>IM0047053</td>\n",
       "      <td>Closed</td>\n",
       "      <td>4</td>\n",
       "      <td>4</td>\n",
       "      <td>4.0</td>\n",
       "      <td>0.231896</td>\n",
       "      <td>...</td>\n",
       "      <td>NaN</td>\n",
       "      <td>31-03-2014 16:29</td>\n",
       "      <td>31-03-2014 16:29</td>\n",
       "      <td>0,095</td>\n",
       "      <td>Other</td>\n",
       "      <td>1.0</td>\n",
       "      <td>SD0147021</td>\n",
       "      <td>NaN</td>\n",
       "      <td>NaN</td>\n",
       "      <td>NaN</td>\n",
       "    </tr>\n",
       "    <tr>\n",
       "      <th>46602</th>\n",
       "      <td>SBA000461</td>\n",
       "      <td>application</td>\n",
       "      <td>Server Based Application</td>\n",
       "      <td>WBS000073</td>\n",
       "      <td>IM0047054</td>\n",
       "      <td>Closed</td>\n",
       "      <td>4</td>\n",
       "      <td>4</td>\n",
       "      <td>4.0</td>\n",
       "      <td>0.805153</td>\n",
       "      <td>...</td>\n",
       "      <td>NaN</td>\n",
       "      <td>31-03-2014 15:29</td>\n",
       "      <td>31-03-2014 15:29</td>\n",
       "      <td>0,428333333</td>\n",
       "      <td>User error</td>\n",
       "      <td>1.0</td>\n",
       "      <td>SD0146967</td>\n",
       "      <td>NaN</td>\n",
       "      <td>NaN</td>\n",
       "      <td>NaN</td>\n",
       "    </tr>\n",
       "    <tr>\n",
       "      <th>46603</th>\n",
       "      <td>LAP000019</td>\n",
       "      <td>computer</td>\n",
       "      <td>Laptop</td>\n",
       "      <td>WBS000091</td>\n",
       "      <td>IM0047055</td>\n",
       "      <td>Closed</td>\n",
       "      <td>5</td>\n",
       "      <td>5</td>\n",
       "      <td>5.0</td>\n",
       "      <td>0.917466</td>\n",
       "      <td>...</td>\n",
       "      <td>NaN</td>\n",
       "      <td>31-03-2014 15:32</td>\n",
       "      <td>31-03-2014 15:32</td>\n",
       "      <td>0,071666667</td>\n",
       "      <td>Hardware</td>\n",
       "      <td>1.0</td>\n",
       "      <td>SD0146982</td>\n",
       "      <td>NaN</td>\n",
       "      <td>NaN</td>\n",
       "      <td>NaN</td>\n",
       "    </tr>\n",
       "    <tr>\n",
       "      <th>46604</th>\n",
       "      <td>WBA000058</td>\n",
       "      <td>application</td>\n",
       "      <td>Web Based Application</td>\n",
       "      <td>WBS000073</td>\n",
       "      <td>IM0047056</td>\n",
       "      <td>Closed</td>\n",
       "      <td>4</td>\n",
       "      <td>4</td>\n",
       "      <td>4.0</td>\n",
       "      <td>0.701278</td>\n",
       "      <td>...</td>\n",
       "      <td>NaN</td>\n",
       "      <td>31-03-2014 15:42</td>\n",
       "      <td>31-03-2014 15:42</td>\n",
       "      <td>0,116944444</td>\n",
       "      <td>Software</td>\n",
       "      <td>1.0</td>\n",
       "      <td>SD0146986</td>\n",
       "      <td>NaN</td>\n",
       "      <td>NaN</td>\n",
       "      <td>NaN</td>\n",
       "    </tr>\n",
       "    <tr>\n",
       "      <th>46605</th>\n",
       "      <td>DCE000077</td>\n",
       "      <td>hardware</td>\n",
       "      <td>DataCenterEquipment</td>\n",
       "      <td>WBS000267</td>\n",
       "      <td>IM0047057</td>\n",
       "      <td>Closed</td>\n",
       "      <td>3</td>\n",
       "      <td>3</td>\n",
       "      <td>3.0</td>\n",
       "      <td>0.902320</td>\n",
       "      <td>...</td>\n",
       "      <td>NaN</td>\n",
       "      <td>31-03-2014 22:47</td>\n",
       "      <td>31-03-2014 22:47</td>\n",
       "      <td>0,586388889</td>\n",
       "      <td>Hardware</td>\n",
       "      <td>1.0</td>\n",
       "      <td>SD0147088</td>\n",
       "      <td>NaN</td>\n",
       "      <td>NaN</td>\n",
       "      <td>NaN</td>\n",
       "    </tr>\n",
       "  </tbody>\n",
       "</table>\n",
       "<p>5 rows × 25 columns</p>\n",
       "</div>"
      ],
      "text/plain": [
       "         CI_Name       CI_Cat                 CI_Subcat        WBS  \\\n",
       "46601  SBA000464  application  Server Based Application  WBS000073   \n",
       "46602  SBA000461  application  Server Based Application  WBS000073   \n",
       "46603  LAP000019     computer                    Laptop  WBS000091   \n",
       "46604  WBA000058  application     Web Based Application  WBS000073   \n",
       "46605  DCE000077     hardware       DataCenterEquipment  WBS000267   \n",
       "\n",
       "      Incident_ID  Status Impact Urgency  Priority  number_cnt  ...  \\\n",
       "46601   IM0047053  Closed      4       4       4.0    0.231896  ...   \n",
       "46602   IM0047054  Closed      4       4       4.0    0.805153  ...   \n",
       "46603   IM0047055  Closed      5       5       5.0    0.917466  ...   \n",
       "46604   IM0047056  Closed      4       4       4.0    0.701278  ...   \n",
       "46605   IM0047057  Closed      3       3       3.0    0.902320  ...   \n",
       "\n",
       "      Reopen_Time     Resolved_Time        Close_Time  Handle_Time_hrs  \\\n",
       "46601         NaN  31-03-2014 16:29  31-03-2014 16:29            0,095   \n",
       "46602         NaN  31-03-2014 15:29  31-03-2014 15:29      0,428333333   \n",
       "46603         NaN  31-03-2014 15:32  31-03-2014 15:32      0,071666667   \n",
       "46604         NaN  31-03-2014 15:42  31-03-2014 15:42      0,116944444   \n",
       "46605         NaN  31-03-2014 22:47  31-03-2014 22:47      0,586388889   \n",
       "\n",
       "      Closure_Code No_of_Related_Interactions Related_Interaction  \\\n",
       "46601        Other                        1.0           SD0147021   \n",
       "46602   User error                        1.0           SD0146967   \n",
       "46603     Hardware                        1.0           SD0146982   \n",
       "46604     Software                        1.0           SD0146986   \n",
       "46605     Hardware                        1.0           SD0147088   \n",
       "\n",
       "      No_of_Related_Incidents No_of_Related_Changes Related_Change  \n",
       "46601                     NaN                   NaN            NaN  \n",
       "46602                     NaN                   NaN            NaN  \n",
       "46603                     NaN                   NaN            NaN  \n",
       "46604                     NaN                   NaN            NaN  \n",
       "46605                     NaN                   NaN            NaN  \n",
       "\n",
       "[5 rows x 25 columns]"
      ]
     },
     "execution_count": 11,
     "metadata": {},
     "output_type": "execute_result"
    }
   ],
   "source": [
    "data.tail()"
   ]
  },
  {
   "cell_type": "code",
   "execution_count": 14,
   "metadata": {},
   "outputs": [
    {
     "data": {
      "text/plain": [
       "Index(['CI_Name', 'CI_Cat', 'CI_Subcat', 'WBS', 'Incident_ID', 'Status',\n",
       "       'Impact', 'Urgency', 'Priority', 'number_cnt', 'Category', 'KB_number',\n",
       "       'Alert_Status', 'No_of_Reassignments', 'Open_Time', 'Reopen_Time',\n",
       "       'Resolved_Time', 'Close_Time', 'Handle_Time_hrs', 'Closure_Code',\n",
       "       'No_of_Related_Interactions', 'Related_Interaction',\n",
       "       'No_of_Related_Incidents', 'No_of_Related_Changes', 'Related_Change'],\n",
       "      dtype='object')"
      ]
     },
     "execution_count": 14,
     "metadata": {},
     "output_type": "execute_result"
    }
   ],
   "source": [
    "data.columns"
   ]
  },
  {
   "cell_type": "code",
   "execution_count": 15,
   "metadata": {},
   "outputs": [],
   "source": [
    "import seaborn as sb"
   ]
  },
  {
   "cell_type": "code",
   "execution_count": 16,
   "metadata": {},
   "outputs": [
    {
     "data": {
      "text/plain": [
       "<matplotlib.axes._subplots.AxesSubplot at 0x1f58bb00828>"
      ]
     },
     "execution_count": 16,
     "metadata": {},
     "output_type": "execute_result"
    },
    {
     "data": {
      "image/png": "[encoded data removed]",
      "text/plain": [
       "<Figure size 432x288 with 2 Axes>"
      ]
     },
     "metadata": {
      "needs_background": "light"
     },
     "output_type": "display_data"
    }
   ],
   "source": [
    "sb.heatmap(data.corr(),cmap='Blues',annot=True)"
   ]
  },
  {
   "cell_type": "code",
   "execution_count": 17,
   "metadata": {},
   "outputs": [
    {
     "name": "stdout",
     "output_type": "stream",
     "text": [
      "<class 'pandas.core.frame.DataFrame'>\n",
      "RangeIndex: 46606 entries, 0 to 46605\n",
      "Data columns (total 25 columns):\n",
      "CI_Name                       46606 non-null object\n",
      "CI_Cat                        46495 non-null object\n",
      "CI_Subcat                     46495 non-null object\n",
      "WBS                           46606 non-null object\n",
      "Incident_ID                   46606 non-null object\n",
      "Status                        46606 non-null object\n",
      "Impact                        46606 non-null object\n",
      "Urgency                       46606 non-null object\n",
      "Priority                      45226 non-null float64\n",
      "number_cnt                    46606 non-null float64\n",
      "Category                      46606 non-null object\n",
      "KB_number                     46606 non-null object\n",
      "Alert_Status                  46606 non-null object\n",
      "No_of_Reassignments           46605 non-null float64\n",
      "Open_Time                     46606 non-null object\n",
      "Reopen_Time                   2284 non-null object\n",
      "Resolved_Time                 44826 non-null object\n",
      "Close_Time                    46606 non-null object\n",
      "Handle_Time_hrs               46605 non-null object\n",
      "Closure_Code                  46146 non-null object\n",
      "No_of_Related_Interactions    46492 non-null float64\n",
      "Related_Interaction           46606 non-null object\n",
      "No_of_Related_Incidents       1222 non-null float64\n",
      "No_of_Related_Changes         560 non-null float64\n",
      "Related_Change                560 non-null object\n",
      "dtypes: float64(6), object(19)\n",
      "memory usage: 8.9+ MB\n"
     ]
    }
   ],
   "source": [
    "data.info()"
   ]
  },
  {
   "cell_type": "code",
   "execution_count": null,
   "metadata": {},
   "outputs": [],
   "source": []
  }
 ],
 "metadata": {
  "kernelspec": {
   "display_name": "Python 3",
   "language": "python",
   "name": "python3"
  },
  "language_info": {
   "codemirror_mode": {
    "name": "ipython",
    "version": 3
   },
   "file_extension": ".py",
   "mimetype": "text/x-python",
   "name": "python",
   "nbconvert_exporter": "python",
   "pygments_lexer": "ipython3",
   "version": "3.7.3"
  }
 },
 "nbformat": 4,
 "nbformat_minor": 2
}
